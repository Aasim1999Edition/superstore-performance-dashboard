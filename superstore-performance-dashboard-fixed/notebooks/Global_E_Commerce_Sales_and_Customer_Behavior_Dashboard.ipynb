{
 "cells": [
  {
   "cell_type": "code",
   "execution_count": 5,
   "id": "323bdc8a-dedf-4e1d-aff4-c02ae5919d03",
   "metadata": {},
   "outputs": [],
   "source": [
    "import pandas as pd "
   ]
  },
  {
   "cell_type": "code",
   "execution_count": 6,
   "id": "610bbd40-171f-4312-ab03-190859fa7b6e",
   "metadata": {},
   "outputs": [],
   "source": [
    "df = pd.read_excel(\"ECommerce_Sales_Global.xlsx\")"
   ]
  },
  {
   "cell_type": "code",
   "execution_count": 7,
   "id": "f9e4d408-d56a-4dda-bfaa-a8e46a016139",
   "metadata": {},
   "outputs": [
    {
     "data": {
      "text/html": [
       "<div>\n",
       "<style scoped>\n",
       "    .dataframe tbody tr th:only-of-type {\n",
       "        vertical-align: middle;\n",
       "    }\n",
       "\n",
       "    .dataframe tbody tr th {\n",
       "        vertical-align: top;\n",
       "    }\n",
       "\n",
       "    .dataframe thead th {\n",
       "        text-align: right;\n",
       "    }\n",
       "</style>\n",
       "<table border=\"1\" class=\"dataframe\">\n",
       "  <thead>\n",
       "    <tr style=\"text-align: right;\">\n",
       "      <th></th>\n",
       "      <th>Order ID</th>\n",
       "      <th>Customer ID</th>\n",
       "      <th>Order Date</th>\n",
       "      <th>Product Category</th>\n",
       "      <th>Region</th>\n",
       "      <th>Payment Method</th>\n",
       "      <th>Quantity</th>\n",
       "      <th>Price per Unit</th>\n",
       "      <th>Total Amount</th>\n",
       "      <th>Order Status</th>\n",
       "    </tr>\n",
       "  </thead>\n",
       "  <tbody>\n",
       "    <tr>\n",
       "      <th>0</th>\n",
       "      <td>bdd640fb-0667-4ad1-9c80-317fa3b1799d</td>\n",
       "      <td>23b8c1e9-3924-46de-beb1-3b9046685257</td>\n",
       "      <td>2025-08-04</td>\n",
       "      <td>Electronics</td>\n",
       "      <td>North America</td>\n",
       "      <td>Debit Card</td>\n",
       "      <td>2</td>\n",
       "      <td>119.37</td>\n",
       "      <td>238.74</td>\n",
       "      <td>Completed</td>\n",
       "    </tr>\n",
       "    <tr>\n",
       "      <th>1</th>\n",
       "      <td>57a6e460-1b66-43d3-a6af-cce9f1f58294</td>\n",
       "      <td>dd32b854-f3f2-43b7-82d4-f31c51c680ca</td>\n",
       "      <td>2025-08-04</td>\n",
       "      <td>Beauty &amp; Health</td>\n",
       "      <td>Asia</td>\n",
       "      <td>Net Banking</td>\n",
       "      <td>4</td>\n",
       "      <td>381.54</td>\n",
       "      <td>1526.16</td>\n",
       "      <td>Completed</td>\n",
       "    </tr>\n",
       "    <tr>\n",
       "      <th>2</th>\n",
       "      <td>2146de31-3a6b-45aa-a98f-307205bab8a1</td>\n",
       "      <td>87f2b581-4809-4026-9c29-aca720612cdd</td>\n",
       "      <td>2025-08-04</td>\n",
       "      <td>Clothing</td>\n",
       "      <td>Asia</td>\n",
       "      <td>Credit Card</td>\n",
       "      <td>2</td>\n",
       "      <td>86.22</td>\n",
       "      <td>172.44</td>\n",
       "      <td>Completed</td>\n",
       "    </tr>\n",
       "    <tr>\n",
       "      <th>3</th>\n",
       "      <td>b8b75626-b805-4666-b16f-f4f50fbfae31</td>\n",
       "      <td>6d1b5e96-6e64-4ec8-95db-0b31f6c84ff5</td>\n",
       "      <td>2025-08-04</td>\n",
       "      <td>Clothing</td>\n",
       "      <td>South America</td>\n",
       "      <td>Net Banking</td>\n",
       "      <td>2</td>\n",
       "      <td>396.42</td>\n",
       "      <td>792.84</td>\n",
       "      <td>Completed</td>\n",
       "    </tr>\n",
       "    <tr>\n",
       "      <th>4</th>\n",
       "      <td>7eaef452-8eba-4e78-bb16-27737ab417d6</td>\n",
       "      <td>995c712f-2a96-48bd-8f70-6894472678ac</td>\n",
       "      <td>2025-08-04</td>\n",
       "      <td>Beauty &amp; Health</td>\n",
       "      <td>Europe</td>\n",
       "      <td>Debit Card</td>\n",
       "      <td>1</td>\n",
       "      <td>199.30</td>\n",
       "      <td>199.30</td>\n",
       "      <td>Completed</td>\n",
       "    </tr>\n",
       "  </tbody>\n",
       "</table>\n",
       "</div>"
      ],
      "text/plain": [
       "                               Order ID                           Customer ID  \\\n",
       "0  bdd640fb-0667-4ad1-9c80-317fa3b1799d  23b8c1e9-3924-46de-beb1-3b9046685257   \n",
       "1  57a6e460-1b66-43d3-a6af-cce9f1f58294  dd32b854-f3f2-43b7-82d4-f31c51c680ca   \n",
       "2  2146de31-3a6b-45aa-a98f-307205bab8a1  87f2b581-4809-4026-9c29-aca720612cdd   \n",
       "3  b8b75626-b805-4666-b16f-f4f50fbfae31  6d1b5e96-6e64-4ec8-95db-0b31f6c84ff5   \n",
       "4  7eaef452-8eba-4e78-bb16-27737ab417d6  995c712f-2a96-48bd-8f70-6894472678ac   \n",
       "\n",
       "  Order Date Product Category         Region Payment Method  Quantity  \\\n",
       "0 2025-08-04      Electronics  North America     Debit Card         2   \n",
       "1 2025-08-04  Beauty & Health           Asia    Net Banking         4   \n",
       "2 2025-08-04         Clothing           Asia    Credit Card         2   \n",
       "3 2025-08-04         Clothing  South America    Net Banking         2   \n",
       "4 2025-08-04  Beauty & Health         Europe     Debit Card         1   \n",
       "\n",
       "   Price per Unit  Total Amount Order Status  \n",
       "0          119.37        238.74    Completed  \n",
       "1          381.54       1526.16    Completed  \n",
       "2           86.22        172.44    Completed  \n",
       "3          396.42        792.84    Completed  \n",
       "4          199.30        199.30    Completed  "
      ]
     },
     "execution_count": 7,
     "metadata": {},
     "output_type": "execute_result"
    }
   ],
   "source": [
    "df.head()"
   ]
  },
  {
   "cell_type": "code",
   "execution_count": 11,
   "id": "ea9f76d2-a4d7-4d23-b171-c3b913939dec",
   "metadata": {},
   "outputs": [
    {
     "data": {
      "text/plain": [
       "Order ID            0\n",
       "Customer ID         0\n",
       "Order Date          0\n",
       "Product Category    0\n",
       "Region              0\n",
       "Payment Method      0\n",
       "Quantity            0\n",
       "Price per Unit      0\n",
       "Total Amount        0\n",
       "Order Status        0\n",
       "dtype: int64"
      ]
     },
     "execution_count": 11,
     "metadata": {},
     "output_type": "execute_result"
    }
   ],
   "source": [
    "df.isnull().sum()"
   ]
  },
  {
   "cell_type": "code",
   "execution_count": 13,
   "id": "ed163c36-838c-4a91-9eb4-c1a123b6479a",
   "metadata": {},
   "outputs": [
    {
     "data": {
      "text/plain": [
       "Order ID                    object\n",
       "Customer ID                 object\n",
       "Order Date          datetime64[ns]\n",
       "Product Category            object\n",
       "Region                      object\n",
       "Payment Method              object\n",
       "Quantity                     int64\n",
       "Price per Unit             float64\n",
       "Total Amount               float64\n",
       "Order Status                object\n",
       "dtype: object"
      ]
     },
     "execution_count": 13,
     "metadata": {},
     "output_type": "execute_result"
    }
   ],
   "source": [
    "df.dtypes"
   ]
  },
  {
   "cell_type": "code",
   "execution_count": 15,
   "id": "db8aa0ea-d78a-4f4d-a69b-503a16cca946",
   "metadata": {},
   "outputs": [],
   "source": [
    "df['Order Date'] = pd.to_datetime(df['Order Date'])"
   ]
  },
  {
   "cell_type": "code",
   "execution_count": 22,
   "id": "d18a7d89-21b3-43a6-92fa-afa029bb6dcb",
   "metadata": {},
   "outputs": [],
   "source": [
    "df['YearMonth'] = df['Order Date'].dt.to_period('M')\n",
    "df['Weekday'] = df['Order Date'].dt.day_name()"
   ]
  },
  {
   "cell_type": "code",
   "execution_count": 26,
   "id": "b9059d71-e984-4960-947f-b3a3decedbbc",
   "metadata": {},
   "outputs": [
    {
     "data": {
      "text/plain": [
       "Order ID                    object\n",
       "Customer ID                 object\n",
       "Order Date          datetime64[ns]\n",
       "Product Category            object\n",
       "Region                      object\n",
       "Payment Method              object\n",
       "Quantity                     int64\n",
       "Price per Unit             float64\n",
       "Total Amount               float64\n",
       "Order Status                object\n",
       "YearMonth                period[M]\n",
       "Weekday                     object\n",
       "dtype: object"
      ]
     },
     "execution_count": 26,
     "metadata": {},
     "output_type": "execute_result"
    }
   ],
   "source": [
    "df.dtypes"
   ]
  },
  {
   "cell_type": "code",
   "execution_count": 30,
   "id": "8d7db11b-5996-4889-9455-009bbafa0a1c",
   "metadata": {},
   "outputs": [],
   "source": [
    "total_sales = df[\"Total Amount\"].sum()"
   ]
  },
  {
   "cell_type": "code",
   "execution_count": 32,
   "id": "c082daf5-5baf-4325-b4fc-099437659d23",
   "metadata": {},
   "outputs": [
    {
     "data": {
      "text/plain": [
       "3757164.0999999996"
      ]
     },
     "execution_count": 32,
     "metadata": {},
     "output_type": "execute_result"
    }
   ],
   "source": [
    "total_sales"
   ]
  },
  {
   "cell_type": "code",
   "execution_count": 36,
   "id": "ad351b81-13fe-4fbf-8b80-e28865d64ae9",
   "metadata": {},
   "outputs": [],
   "source": [
    "total_orders = df[\"Order ID\"].nunique()"
   ]
  },
  {
   "cell_type": "code",
   "execution_count": 38,
   "id": "bbe1c338-ffcf-4bfe-afef-696163830589",
   "metadata": {},
   "outputs": [
    {
     "data": {
      "text/plain": [
       "5000"
      ]
     },
     "execution_count": 38,
     "metadata": {},
     "output_type": "execute_result"
    }
   ],
   "source": [
    "total_orders"
   ]
  },
  {
   "cell_type": "code",
   "execution_count": 42,
   "id": "76e5ccc0-c395-4576-bd7b-5328f5252ed3",
   "metadata": {},
   "outputs": [],
   "source": [
    "unique_customers = df[\"Customer ID\"].nunique()"
   ]
  },
  {
   "cell_type": "code",
   "execution_count": 44,
   "id": "bd3b15c0-f33a-413f-8ae7-1178ab9e1a00",
   "metadata": {},
   "outputs": [
    {
     "data": {
      "text/plain": [
       "5000"
      ]
     },
     "execution_count": 44,
     "metadata": {},
     "output_type": "execute_result"
    }
   ],
   "source": [
    "unique_customers"
   ]
  },
  {
   "cell_type": "code",
   "execution_count": 46,
   "id": "e7fff1e8-5641-4d60-b4b1-cb25fa1fca84",
   "metadata": {},
   "outputs": [],
   "source": [
    "sales_by_region = df.groupby(\"Region\")[\"Total Amount\"].sum().sort_values(ascending=False)"
   ]
  },
  {
   "cell_type": "code",
   "execution_count": 48,
   "id": "cc5987da-9404-4c5f-adda-69594f8f392b",
   "metadata": {},
   "outputs": [
    {
     "data": {
      "text/plain": [
       "Region\n",
       "South America    792970.88\n",
       "Australia        755904.07\n",
       "North America    739304.74\n",
       "Europe           735895.03\n",
       "Asia             733089.38\n",
       "Name: Total Amount, dtype: float64"
      ]
     },
     "execution_count": 48,
     "metadata": {},
     "output_type": "execute_result"
    }
   ],
   "source": [
    "sales_by_region"
   ]
  },
  {
   "cell_type": "code",
   "execution_count": 54,
   "id": "d07ecec8-7e44-4c3c-8aed-599f969417e3",
   "metadata": {},
   "outputs": [],
   "source": [
    "top_category = df.groupby('Product Category')['Total Amount'].sum().sort_values(ascending=False)"
   ]
  },
  {
   "cell_type": "code",
   "execution_count": 56,
   "id": "2e0f5d3e-8725-4767-8a7b-3017f976ea04",
   "metadata": {},
   "outputs": [
    {
     "data": {
      "text/plain": [
       "Product Category\n",
       "Books              781545.18\n",
       "Electronics        761752.04\n",
       "Clothing           746894.93\n",
       "Home & Kitchen     741290.72\n",
       "Beauty & Health    725681.23\n",
       "Name: Total Amount, dtype: float64"
      ]
     },
     "execution_count": 56,
     "metadata": {},
     "output_type": "execute_result"
    }
   ],
   "source": [
    "top_category"
   ]
  },
  {
   "cell_type": "code",
   "execution_count": 58,
   "id": "1eb2e80b-6302-4860-b34c-1f890d15f228",
   "metadata": {},
   "outputs": [
    {
     "data": {
      "text/plain": [
       "YearMonth\n",
       "2025-08    3757164.1\n",
       "Freq: M, Name: Total Amount, dtype: float64"
      ]
     },
     "execution_count": 58,
     "metadata": {},
     "output_type": "execute_result"
    }
   ],
   "source": [
    "df.groupby('YearMonth')['Total Amount'].sum()"
   ]
  },
  {
   "cell_type": "code",
   "execution_count": 60,
   "id": "b006c632-c31e-4a41-a41e-833f7ddbc340",
   "metadata": {},
   "outputs": [
    {
     "data": {
      "text/html": [
       "<div>\n",
       "<style scoped>\n",
       "    .dataframe tbody tr th:only-of-type {\n",
       "        vertical-align: middle;\n",
       "    }\n",
       "\n",
       "    .dataframe tbody tr th {\n",
       "        vertical-align: top;\n",
       "    }\n",
       "\n",
       "    .dataframe thead th {\n",
       "        text-align: right;\n",
       "    }\n",
       "</style>\n",
       "<table border=\"1\" class=\"dataframe\">\n",
       "  <thead>\n",
       "    <tr style=\"text-align: right;\">\n",
       "      <th>Order Status</th>\n",
       "      <th>Cancelled</th>\n",
       "      <th>Completed</th>\n",
       "      <th>Returned</th>\n",
       "    </tr>\n",
       "    <tr>\n",
       "      <th>YearMonth</th>\n",
       "      <th></th>\n",
       "      <th></th>\n",
       "      <th></th>\n",
       "    </tr>\n",
       "  </thead>\n",
       "  <tbody>\n",
       "    <tr>\n",
       "      <th>2025-08</th>\n",
       "      <td>468</td>\n",
       "      <td>4291</td>\n",
       "      <td>241</td>\n",
       "    </tr>\n",
       "  </tbody>\n",
       "</table>\n",
       "</div>"
      ],
      "text/plain": [
       "Order Status  Cancelled  Completed  Returned\n",
       "YearMonth                                   \n",
       "2025-08             468       4291       241"
      ]
     },
     "execution_count": 60,
     "metadata": {},
     "output_type": "execute_result"
    }
   ],
   "source": [
    "df.groupby(['YearMonth', 'Order Status']).size().unstack()"
   ]
  },
  {
   "cell_type": "code",
   "execution_count": 62,
   "id": "fc236002-99b6-4d18-a50c-898d5db62efa",
   "metadata": {},
   "outputs": [
    {
     "data": {
      "text/plain": [
       "Product Category\n",
       "Beauty & Health    725681.23\n",
       "Books              781545.18\n",
       "Clothing           746894.93\n",
       "Electronics        761752.04\n",
       "Home & Kitchen     741290.72\n",
       "Name: Total Amount, dtype: float64"
      ]
     },
     "execution_count": 62,
     "metadata": {},
     "output_type": "execute_result"
    }
   ],
   "source": [
    "df.groupby('Product Category')['Total Amount'].sum()"
   ]
  },
  {
   "cell_type": "code",
   "execution_count": 64,
   "id": "2c952840-fcc0-4faf-9685-458c81ed13b7",
   "metadata": {},
   "outputs": [
    {
     "data": {
      "text/plain": [
       "Payment Method\n",
       "Credit Card    1290\n",
       "Net Banking    1267\n",
       "PayPal         1225\n",
       "Debit Card     1218\n",
       "Name: count, dtype: int64"
      ]
     },
     "execution_count": 64,
     "metadata": {},
     "output_type": "execute_result"
    }
   ],
   "source": [
    "df['Payment Method'].value_counts()"
   ]
  },
  {
   "cell_type": "code",
   "execution_count": 67,
   "id": "c905f7c1-1d50-467f-a887-fb3185e51df5",
   "metadata": {},
   "outputs": [
    {
     "data": {
      "text/plain": [
       "<Axes: xlabel='Quantity', ylabel='Total Amount'>"
      ]
     },
     "execution_count": 67,
     "metadata": {},
     "output_type": "execute_result"
    },
    {
     "data": {
      "image/png": "[encoded data removed]",
      "text/plain": [
       "<Figure size 640x480 with 1 Axes>"
      ]
     },
     "metadata": {},
     "output_type": "display_data"
    }
   ],
   "source": [
    "df.plot.scatter(x='Quantity', y='Total Amount')"
   ]
  },
  {
   "cell_type": "code",
   "execution_count": 105,
   "id": "b8a92bb3-cf08-494e-91d3-436bbd9ef975",
   "metadata": {},
   "outputs": [],
   "source": [
    "df.to_csv(\"Cleaned_Ecommerce_Global.csv\", index=False)"
   ]
  },
  {
   "cell_type": "code",
   "execution_count": 107,
   "id": "eb7a3012-2be0-451b-b130-8d20b31f3b05",
   "metadata": {},
   "outputs": [],
   "source": [
    "df.to_excel(\"Ecommerce_Tableau_Ready.xlsx\", index=False)"
   ]
  },
  {
   "cell_type": "code",
   "execution_count": 73,
   "id": "48ce1e9a-1785-4103-ade4-5d6db2d72a1f",
   "metadata": {},
   "outputs": [
    {
     "data": {
      "text/html": [
       "<div>\n",
       "<style scoped>\n",
       "    .dataframe tbody tr th:only-of-type {\n",
       "        vertical-align: middle;\n",
       "    }\n",
       "\n",
       "    .dataframe tbody tr th {\n",
       "        vertical-align: top;\n",
       "    }\n",
       "\n",
       "    .dataframe thead th {\n",
       "        text-align: right;\n",
       "    }\n",
       "</style>\n",
       "<table border=\"1\" class=\"dataframe\">\n",
       "  <thead>\n",
       "    <tr style=\"text-align: right;\">\n",
       "      <th></th>\n",
       "      <th>Order ID</th>\n",
       "      <th>Customer ID</th>\n",
       "      <th>Order Date</th>\n",
       "      <th>Product Category</th>\n",
       "      <th>Region</th>\n",
       "      <th>Payment Method</th>\n",
       "      <th>Quantity</th>\n",
       "      <th>Price per Unit</th>\n",
       "      <th>Total Amount</th>\n",
       "      <th>Order Status</th>\n",
       "      <th>YearMonth</th>\n",
       "      <th>Weekday</th>\n",
       "    </tr>\n",
       "  </thead>\n",
       "  <tbody>\n",
       "    <tr>\n",
       "      <th>0</th>\n",
       "      <td>bdd640fb-0667-4ad1-9c80-317fa3b1799d</td>\n",
       "      <td>23b8c1e9-3924-46de-beb1-3b9046685257</td>\n",
       "      <td>2025-08-04</td>\n",
       "      <td>Electronics</td>\n",
       "      <td>North America</td>\n",
       "      <td>Debit Card</td>\n",
       "      <td>2</td>\n",
       "      <td>119.37</td>\n",
       "      <td>238.74</td>\n",
       "      <td>Completed</td>\n",
       "      <td>2025-08</td>\n",
       "      <td>Monday</td>\n",
       "    </tr>\n",
       "    <tr>\n",
       "      <th>1</th>\n",
       "      <td>57a6e460-1b66-43d3-a6af-cce9f1f58294</td>\n",
       "      <td>dd32b854-f3f2-43b7-82d4-f31c51c680ca</td>\n",
       "      <td>2025-08-04</td>\n",
       "      <td>Beauty &amp; Health</td>\n",
       "      <td>Asia</td>\n",
       "      <td>Net Banking</td>\n",
       "      <td>4</td>\n",
       "      <td>381.54</td>\n",
       "      <td>1526.16</td>\n",
       "      <td>Completed</td>\n",
       "      <td>2025-08</td>\n",
       "      <td>Monday</td>\n",
       "    </tr>\n",
       "    <tr>\n",
       "      <th>2</th>\n",
       "      <td>2146de31-3a6b-45aa-a98f-307205bab8a1</td>\n",
       "      <td>87f2b581-4809-4026-9c29-aca720612cdd</td>\n",
       "      <td>2025-08-04</td>\n",
       "      <td>Clothing</td>\n",
       "      <td>Asia</td>\n",
       "      <td>Credit Card</td>\n",
       "      <td>2</td>\n",
       "      <td>86.22</td>\n",
       "      <td>172.44</td>\n",
       "      <td>Completed</td>\n",
       "      <td>2025-08</td>\n",
       "      <td>Monday</td>\n",
       "    </tr>\n",
       "    <tr>\n",
       "      <th>3</th>\n",
       "      <td>b8b75626-b805-4666-b16f-f4f50fbfae31</td>\n",
       "      <td>6d1b5e96-6e64-4ec8-95db-0b31f6c84ff5</td>\n",
       "      <td>2025-08-04</td>\n",
       "      <td>Clothing</td>\n",
       "      <td>South America</td>\n",
       "      <td>Net Banking</td>\n",
       "      <td>2</td>\n",
       "      <td>396.42</td>\n",
       "      <td>792.84</td>\n",
       "      <td>Completed</td>\n",
       "      <td>2025-08</td>\n",
       "      <td>Monday</td>\n",
       "    </tr>\n",
       "    <tr>\n",
       "      <th>4</th>\n",
       "      <td>7eaef452-8eba-4e78-bb16-27737ab417d6</td>\n",
       "      <td>995c712f-2a96-48bd-8f70-6894472678ac</td>\n",
       "      <td>2025-08-04</td>\n",
       "      <td>Beauty &amp; Health</td>\n",
       "      <td>Europe</td>\n",
       "      <td>Debit Card</td>\n",
       "      <td>1</td>\n",
       "      <td>199.30</td>\n",
       "      <td>199.30</td>\n",
       "      <td>Completed</td>\n",
       "      <td>2025-08</td>\n",
       "      <td>Monday</td>\n",
       "    </tr>\n",
       "    <tr>\n",
       "      <th>...</th>\n",
       "      <td>...</td>\n",
       "      <td>...</td>\n",
       "      <td>...</td>\n",
       "      <td>...</td>\n",
       "      <td>...</td>\n",
       "      <td>...</td>\n",
       "      <td>...</td>\n",
       "      <td>...</td>\n",
       "      <td>...</td>\n",
       "      <td>...</td>\n",
       "      <td>...</td>\n",
       "      <td>...</td>\n",
       "    </tr>\n",
       "    <tr>\n",
       "      <th>4995</th>\n",
       "      <td>7880adc6-2af2-4718-a0b2-17f965f35984</td>\n",
       "      <td>9c014262-815a-4a5d-ac35-e33c70fe05a1</td>\n",
       "      <td>2025-08-04</td>\n",
       "      <td>Electronics</td>\n",
       "      <td>Europe</td>\n",
       "      <td>Net Banking</td>\n",
       "      <td>3</td>\n",
       "      <td>493.21</td>\n",
       "      <td>1479.63</td>\n",
       "      <td>Returned</td>\n",
       "      <td>2025-08</td>\n",
       "      <td>Monday</td>\n",
       "    </tr>\n",
       "    <tr>\n",
       "      <th>4996</th>\n",
       "      <td>4598ab17-338f-4430-a2b6-eddcf7bce0ef</td>\n",
       "      <td>147bed20-7b2e-40e6-8802-8d0edcc7eb51</td>\n",
       "      <td>2025-08-04</td>\n",
       "      <td>Home &amp; Kitchen</td>\n",
       "      <td>Europe</td>\n",
       "      <td>Credit Card</td>\n",
       "      <td>3</td>\n",
       "      <td>292.49</td>\n",
       "      <td>877.47</td>\n",
       "      <td>Completed</td>\n",
       "      <td>2025-08</td>\n",
       "      <td>Monday</td>\n",
       "    </tr>\n",
       "    <tr>\n",
       "      <th>4997</th>\n",
       "      <td>6a7330b3-ecfa-4700-a790-eee07dcfe924</td>\n",
       "      <td>be006ccb-f872-4487-a507-c321f0b6844f</td>\n",
       "      <td>2025-08-04</td>\n",
       "      <td>Clothing</td>\n",
       "      <td>South America</td>\n",
       "      <td>Net Banking</td>\n",
       "      <td>1</td>\n",
       "      <td>119.30</td>\n",
       "      <td>119.30</td>\n",
       "      <td>Cancelled</td>\n",
       "      <td>2025-08</td>\n",
       "      <td>Monday</td>\n",
       "    </tr>\n",
       "    <tr>\n",
       "      <th>4998</th>\n",
       "      <td>66c9e45f-eca0-41c6-b5bb-5dd72955c593</td>\n",
       "      <td>2f1f9181-28ae-4c66-9795-795d2c017a94</td>\n",
       "      <td>2025-08-04</td>\n",
       "      <td>Clothing</td>\n",
       "      <td>Asia</td>\n",
       "      <td>Credit Card</td>\n",
       "      <td>1</td>\n",
       "      <td>118.02</td>\n",
       "      <td>118.02</td>\n",
       "      <td>Completed</td>\n",
       "      <td>2025-08</td>\n",
       "      <td>Monday</td>\n",
       "    </tr>\n",
       "    <tr>\n",
       "      <th>4999</th>\n",
       "      <td>3810ae66-5a31-44cc-8d4b-69a99b689c88</td>\n",
       "      <td>402913ec-9ef2-493e-b0ac-7d7ba2f963a3</td>\n",
       "      <td>2025-08-05</td>\n",
       "      <td>Books</td>\n",
       "      <td>South America</td>\n",
       "      <td>Credit Card</td>\n",
       "      <td>1</td>\n",
       "      <td>243.36</td>\n",
       "      <td>243.36</td>\n",
       "      <td>Completed</td>\n",
       "      <td>2025-08</td>\n",
       "      <td>Tuesday</td>\n",
       "    </tr>\n",
       "  </tbody>\n",
       "</table>\n",
       "<p>5000 rows × 12 columns</p>\n",
       "</div>"
      ],
      "text/plain": [
       "                                  Order ID  \\\n",
       "0     bdd640fb-0667-4ad1-9c80-317fa3b1799d   \n",
       "1     57a6e460-1b66-43d3-a6af-cce9f1f58294   \n",
       "2     2146de31-3a6b-45aa-a98f-307205bab8a1   \n",
       "3     b8b75626-b805-4666-b16f-f4f50fbfae31   \n",
       "4     7eaef452-8eba-4e78-bb16-27737ab417d6   \n",
       "...                                    ...   \n",
       "4995  7880adc6-2af2-4718-a0b2-17f965f35984   \n",
       "4996  4598ab17-338f-4430-a2b6-eddcf7bce0ef   \n",
       "4997  6a7330b3-ecfa-4700-a790-eee07dcfe924   \n",
       "4998  66c9e45f-eca0-41c6-b5bb-5dd72955c593   \n",
       "4999  3810ae66-5a31-44cc-8d4b-69a99b689c88   \n",
       "\n",
       "                               Customer ID Order Date Product Category  \\\n",
       "0     23b8c1e9-3924-46de-beb1-3b9046685257 2025-08-04      Electronics   \n",
       "1     dd32b854-f3f2-43b7-82d4-f31c51c680ca 2025-08-04  Beauty & Health   \n",
       "2     87f2b581-4809-4026-9c29-aca720612cdd 2025-08-04         Clothing   \n",
       "3     6d1b5e96-6e64-4ec8-95db-0b31f6c84ff5 2025-08-04         Clothing   \n",
       "4     995c712f-2a96-48bd-8f70-6894472678ac 2025-08-04  Beauty & Health   \n",
       "...                                    ...        ...              ...   \n",
       "4995  9c014262-815a-4a5d-ac35-e33c70fe05a1 2025-08-04      Electronics   \n",
       "4996  147bed20-7b2e-40e6-8802-8d0edcc7eb51 2025-08-04   Home & Kitchen   \n",
       "4997  be006ccb-f872-4487-a507-c321f0b6844f 2025-08-04         Clothing   \n",
       "4998  2f1f9181-28ae-4c66-9795-795d2c017a94 2025-08-04         Clothing   \n",
       "4999  402913ec-9ef2-493e-b0ac-7d7ba2f963a3 2025-08-05            Books   \n",
       "\n",
       "             Region Payment Method  Quantity  Price per Unit  Total Amount  \\\n",
       "0     North America     Debit Card         2          119.37        238.74   \n",
       "1              Asia    Net Banking         4          381.54       1526.16   \n",
       "2              Asia    Credit Card         2           86.22        172.44   \n",
       "3     South America    Net Banking         2          396.42        792.84   \n",
       "4            Europe     Debit Card         1          199.30        199.30   \n",
       "...             ...            ...       ...             ...           ...   \n",
       "4995         Europe    Net Banking         3          493.21       1479.63   \n",
       "4996         Europe    Credit Card         3          292.49        877.47   \n",
       "4997  South America    Net Banking         1          119.30        119.30   \n",
       "4998           Asia    Credit Card         1          118.02        118.02   \n",
       "4999  South America    Credit Card         1          243.36        243.36   \n",
       "\n",
       "     Order Status YearMonth  Weekday  \n",
       "0       Completed   2025-08   Monday  \n",
       "1       Completed   2025-08   Monday  \n",
       "2       Completed   2025-08   Monday  \n",
       "3       Completed   2025-08   Monday  \n",
       "4       Completed   2025-08   Monday  \n",
       "...           ...       ...      ...  \n",
       "4995     Returned   2025-08   Monday  \n",
       "4996    Completed   2025-08   Monday  \n",
       "4997    Cancelled   2025-08   Monday  \n",
       "4998    Completed   2025-08   Monday  \n",
       "4999    Completed   2025-08  Tuesday  \n",
       "\n",
       "[5000 rows x 12 columns]"
      ]
     },
     "execution_count": 73,
     "metadata": {},
     "output_type": "execute_result"
    }
   ],
   "source": [
    "df"
   ]
  },
  {
   "cell_type": "code",
   "execution_count": 79,
   "id": "e0f2724f-32c8-4bc1-87d9-8fb2dedcf152",
   "metadata": {},
   "outputs": [],
   "source": [
    "import pandas as pd\n",
    "from sklearn.model_selection import train_test_split\n",
    "from sklearn.ensemble import RandomForestClassifier\n",
    "from sklearn.metrics import accuracy_score, confusion_matrix, classification_report"
   ]
  },
  {
   "cell_type": "code",
   "execution_count": 81,
   "id": "ea38ef02-08d4-42a9-a0bd-dd8a8572c172",
   "metadata": {},
   "outputs": [],
   "source": [
    "df = pd.read_excel(\"ECommerce_Sales_Global.xlsx\")"
   ]
  },
  {
   "cell_type": "code",
   "execution_count": 93,
   "id": "0060894e-ddf3-4304-921c-21fdb6bb3eef",
   "metadata": {},
   "outputs": [],
   "source": [
    "df['Order_Status_Binary'] = df['Order Status'].apply(lambda x: 1 if x == 'Completed' else 0)\n"
   ]
  },
  {
   "cell_type": "code",
   "execution_count": 95,
   "id": "8e192e5e-ed1c-4edb-8e63-31fd91f3f8e6",
   "metadata": {},
   "outputs": [],
   "source": [
    "features = df[['Quantity', 'Price per Unit', 'Total Amount']]  # Add more if needed\n",
    "target = df['Order_Status_Binary']"
   ]
  },
  {
   "cell_type": "code",
   "execution_count": 97,
   "id": "27c5a67b-a0aa-4918-a604-b9df1f87f171",
   "metadata": {},
   "outputs": [],
   "source": [
    "X_train, X_test, y_train, y_test = train_test_split(features, target, test_size=0.2, random_state=42)\n"
   ]
  },
  {
   "cell_type": "code",
   "execution_count": 101,
   "id": "36992961-abe5-4023-8e61-59c1941fd4d8",
   "metadata": {},
   "outputs": [
    {
     "data": {
      "text/html": [
       "<style>#sk-container-id-1 {\n",
       "  /* Definition of color scheme common for light and dark mode */\n",
       "  --sklearn-color-text: black;\n",
       "  --sklearn-color-line: gray;\n",
       "  /* Definition of color scheme for unfitted estimators */\n",
       "  --sklearn-color-unfitted-level-0: #fff5e6;\n",
       "  --sklearn-color-unfitted-level-1: #f6e4d2;\n",
       "  --sklearn-color-unfitted-level-2: #ffe0b3;\n",
       "  --sklearn-color-unfitted-level-3: chocolate;\n",
       "  /* Definition of color scheme for fitted estimators */\n",
       "  --sklearn-color-fitted-level-0: #f0f8ff;\n",
       "  --sklearn-color-fitted-level-1: #d4ebff;\n",
       "  --sklearn-color-fitted-level-2: #b3dbfd;\n",
       "  --sklearn-color-fitted-level-3: cornflowerblue;\n",
       "\n",
       "  /* Specific color for light theme */\n",
       "  --sklearn-color-text-on-default-background: var(--sg-text-color, var(--theme-code-foreground, var(--jp-content-font-color1, black)));\n",
       "  --sklearn-color-background: var(--sg-background-color, var(--theme-background, var(--jp-layout-color0, white)));\n",
       "  --sklearn-color-border-box: var(--sg-text-color, var(--theme-code-foreground, var(--jp-content-font-color1, black)));\n",
       "  --sklearn-color-icon: #696969;\n",
       "\n",
       "  @media (prefers-color-scheme: dark) {\n",
       "    /* Redefinition of color scheme for dark theme */\n",
       "    --sklearn-color-text-on-default-background: var(--sg-text-color, var(--theme-code-foreground, var(--jp-content-font-color1, white)));\n",
       "    --sklearn-color-background: var(--sg-background-color, var(--theme-background, var(--jp-layout-color0, #111)));\n",
       "    --sklearn-color-border-box: var(--sg-text-color, var(--theme-code-foreground, var(--jp-content-font-color1, white)));\n",
       "    --sklearn-color-icon: #878787;\n",
       "  }\n",
       "}\n",
       "\n",
       "#sk-container-id-1 {\n",
       "  color: var(--sklearn-color-text);\n",
       "}\n",
       "\n",
       "#sk-container-id-1 pre {\n",
       "  padding: 0;\n",
       "}\n",
       "\n",
       "#sk-container-id-1 input.sk-hidden--visually {\n",
       "  border: 0;\n",
       "  clip: rect(1px 1px 1px 1px);\n",
       "  clip: rect(1px, 1px, 1px, 1px);\n",
       "  height: 1px;\n",
       "  margin: -1px;\n",
       "  overflow: hidden;\n",
       "  padding: 0;\n",
       "  position: absolute;\n",
       "  width: 1px;\n",
       "}\n",
       "\n",
       "#sk-container-id-1 div.sk-dashed-wrapped {\n",
       "  border: 1px dashed var(--sklearn-color-line);\n",
       "  margin: 0 0.4em 0.5em 0.4em;\n",
       "  box-sizing: border-box;\n",
       "  padding-bottom: 0.4em;\n",
       "  background-color: var(--sklearn-color-background);\n",
       "}\n",
       "\n",
       "#sk-container-id-1 div.sk-container {\n",
       "  /* jupyter's `normalize.less` sets `[hidden] { display: none; }`\n",
       "     but bootstrap.min.css set `[hidden] { display: none !important; }`\n",
       "     so we also need the `!important` here to be able to override the\n",
       "     default hidden behavior on the sphinx rendered scikit-learn.org.\n",
       "     See: https://github.com/scikit-learn/scikit-learn/issues/21755 */\n",
       "  display: inline-block !important;\n",
       "  position: relative;\n",
       "}\n",
       "\n",
       "#sk-container-id-1 div.sk-text-repr-fallback {\n",
       "  display: none;\n",
       "}\n",
       "\n",
       "div.sk-parallel-item,\n",
       "div.sk-serial,\n",
       "div.sk-item {\n",
       "  /* draw centered vertical line to link estimators */\n",
       "  background-image: linear-gradient(var(--sklearn-color-text-on-default-background), var(--sklearn-color-text-on-default-background));\n",
       "  background-size: 2px 100%;\n",
       "  background-repeat: no-repeat;\n",
       "  background-position: center center;\n",
       "}\n",
       "\n",
       "/* Parallel-specific style estimator block */\n",
       "\n",
       "#sk-container-id-1 div.sk-parallel-item::after {\n",
       "  content: \"\";\n",
       "  width: 100%;\n",
       "  border-bottom: 2px solid var(--sklearn-color-text-on-default-background);\n",
       "  flex-grow: 1;\n",
       "}\n",
       "\n",
       "#sk-container-id-1 div.sk-parallel {\n",
       "  display: flex;\n",
       "  align-items: stretch;\n",
       "  justify-content: center;\n",
       "  background-color: var(--sklearn-color-background);\n",
       "  position: relative;\n",
       "}\n",
       "\n",
       "#sk-container-id-1 div.sk-parallel-item {\n",
       "  display: flex;\n",
       "  flex-direction: column;\n",
       "}\n",
       "\n",
       "#sk-container-id-1 div.sk-parallel-item:first-child::after {\n",
       "  align-self: flex-end;\n",
       "  width: 50%;\n",
       "}\n",
       "\n",
       "#sk-container-id-1 div.sk-parallel-item:last-child::after {\n",
       "  align-self: flex-start;\n",
       "  width: 50%;\n",
       "}\n",
       "\n",
       "#sk-container-id-1 div.sk-parallel-item:only-child::after {\n",
       "  width: 0;\n",
       "}\n",
       "\n",
       "/* Serial-specific style estimator block */\n",
       "\n",
       "#sk-container-id-1 div.sk-serial {\n",
       "  display: flex;\n",
       "  flex-direction: column;\n",
       "  align-items: center;\n",
       "  background-color: var(--sklearn-color-background);\n",
       "  padding-right: 1em;\n",
       "  padding-left: 1em;\n",
       "}\n",
       "\n",
       "\n",
       "/* Toggleable style: style used for estimator/Pipeline/ColumnTransformer box that is\n",
       "clickable and can be expanded/collapsed.\n",
       "- Pipeline and ColumnTransformer use this feature and define the default style\n",
       "- Estimators will overwrite some part of the style using the `sk-estimator` class\n",
       "*/\n",
       "\n",
       "/* Pipeline and ColumnTransformer style (default) */\n",
       "\n",
       "#sk-container-id-1 div.sk-toggleable {\n",
       "  /* Default theme specific background. It is overwritten whether we have a\n",
       "  specific estimator or a Pipeline/ColumnTransformer */\n",
       "  background-color: var(--sklearn-color-background);\n",
       "}\n",
       "\n",
       "/* Toggleable label */\n",
       "#sk-container-id-1 label.sk-toggleable__label {\n",
       "  cursor: pointer;\n",
       "  display: block;\n",
       "  width: 100%;\n",
       "  margin-bottom: 0;\n",
       "  padding: 0.5em;\n",
       "  box-sizing: border-box;\n",
       "  text-align: center;\n",
       "}\n",
       "\n",
       "#sk-container-id-1 label.sk-toggleable__label-arrow:before {\n",
       "  /* Arrow on the left of the label */\n",
       "  content: \"▸\";\n",
       "  float: left;\n",
       "  margin-right: 0.25em;\n",
       "  color: var(--sklearn-color-icon);\n",
       "}\n",
       "\n",
       "#sk-container-id-1 label.sk-toggleable__label-arrow:hover:before {\n",
       "  color: var(--sklearn-color-text);\n",
       "}\n",
       "\n",
       "/* Toggleable content - dropdown */\n",
       "\n",
       "#sk-container-id-1 div.sk-toggleable__content {\n",
       "  max-height: 0;\n",
       "  max-width: 0;\n",
       "  overflow: hidden;\n",
       "  text-align: left;\n",
       "  /* unfitted */\n",
       "  background-color: var(--sklearn-color-unfitted-level-0);\n",
       "}\n",
       "\n",
       "#sk-container-id-1 div.sk-toggleable__content.fitted {\n",
       "  /* fitted */\n",
       "  background-color: var(--sklearn-color-fitted-level-0);\n",
       "}\n",
       "\n",
       "#sk-container-id-1 div.sk-toggleable__content pre {\n",
       "  margin: 0.2em;\n",
       "  border-radius: 0.25em;\n",
       "  color: var(--sklearn-color-text);\n",
       "  /* unfitted */\n",
       "  background-color: var(--sklearn-color-unfitted-level-0);\n",
       "}\n",
       "\n",
       "#sk-container-id-1 div.sk-toggleable__content.fitted pre {\n",
       "  /* unfitted */\n",
       "  background-color: var(--sklearn-color-fitted-level-0);\n",
       "}\n",
       "\n",
       "#sk-container-id-1 input.sk-toggleable__control:checked~div.sk-toggleable__content {\n",
       "  /* Expand drop-down */\n",
       "  max-height: 200px;\n",
       "  max-width: 100%;\n",
       "  overflow: auto;\n",
       "}\n",
       "\n",
       "#sk-container-id-1 input.sk-toggleable__control:checked~label.sk-toggleable__label-arrow:before {\n",
       "  content: \"▾\";\n",
       "}\n",
       "\n",
       "/* Pipeline/ColumnTransformer-specific style */\n",
       "\n",
       "#sk-container-id-1 div.sk-label input.sk-toggleable__control:checked~label.sk-toggleable__label {\n",
       "  color: var(--sklearn-color-text);\n",
       "  background-color: var(--sklearn-color-unfitted-level-2);\n",
       "}\n",
       "\n",
       "#sk-container-id-1 div.sk-label.fitted input.sk-toggleable__control:checked~label.sk-toggleable__label {\n",
       "  background-color: var(--sklearn-color-fitted-level-2);\n",
       "}\n",
       "\n",
       "/* Estimator-specific style */\n",
       "\n",
       "/* Colorize estimator box */\n",
       "#sk-container-id-1 div.sk-estimator input.sk-toggleable__control:checked~label.sk-toggleable__label {\n",
       "  /* unfitted */\n",
       "  background-color: var(--sklearn-color-unfitted-level-2);\n",
       "}\n",
       "\n",
       "#sk-container-id-1 div.sk-estimator.fitted input.sk-toggleable__control:checked~label.sk-toggleable__label {\n",
       "  /* fitted */\n",
       "  background-color: var(--sklearn-color-fitted-level-2);\n",
       "}\n",
       "\n",
       "#sk-container-id-1 div.sk-label label.sk-toggleable__label,\n",
       "#sk-container-id-1 div.sk-label label {\n",
       "  /* The background is the default theme color */\n",
       "  color: var(--sklearn-color-text-on-default-background);\n",
       "}\n",
       "\n",
       "/* On hover, darken the color of the background */\n",
       "#sk-container-id-1 div.sk-label:hover label.sk-toggleable__label {\n",
       "  color: var(--sklearn-color-text);\n",
       "  background-color: var(--sklearn-color-unfitted-level-2);\n",
       "}\n",
       "\n",
       "/* Label box, darken color on hover, fitted */\n",
       "#sk-container-id-1 div.sk-label.fitted:hover label.sk-toggleable__label.fitted {\n",
       "  color: var(--sklearn-color-text);\n",
       "  background-color: var(--sklearn-color-fitted-level-2);\n",
       "}\n",
       "\n",
       "/* Estimator label */\n",
       "\n",
       "#sk-container-id-1 div.sk-label label {\n",
       "  font-family: monospace;\n",
       "  font-weight: bold;\n",
       "  display: inline-block;\n",
       "  line-height: 1.2em;\n",
       "}\n",
       "\n",
       "#sk-container-id-1 div.sk-label-container {\n",
       "  text-align: center;\n",
       "}\n",
       "\n",
       "/* Estimator-specific */\n",
       "#sk-container-id-1 div.sk-estimator {\n",
       "  font-family: monospace;\n",
       "  border: 1px dotted var(--sklearn-color-border-box);\n",
       "  border-radius: 0.25em;\n",
       "  box-sizing: border-box;\n",
       "  margin-bottom: 0.5em;\n",
       "  /* unfitted */\n",
       "  background-color: var(--sklearn-color-unfitted-level-0);\n",
       "}\n",
       "\n",
       "#sk-container-id-1 div.sk-estimator.fitted {\n",
       "  /* fitted */\n",
       "  background-color: var(--sklearn-color-fitted-level-0);\n",
       "}\n",
       "\n",
       "/* on hover */\n",
       "#sk-container-id-1 div.sk-estimator:hover {\n",
       "  /* unfitted */\n",
       "  background-color: var(--sklearn-color-unfitted-level-2);\n",
       "}\n",
       "\n",
       "#sk-container-id-1 div.sk-estimator.fitted:hover {\n",
       "  /* fitted */\n",
       "  background-color: var(--sklearn-color-fitted-level-2);\n",
       "}\n",
       "\n",
       "/* Specification for estimator info (e.g. \"i\" and \"?\") */\n",
       "\n",
       "/* Common style for \"i\" and \"?\" */\n",
       "\n",
       ".sk-estimator-doc-link,\n",
       "a:link.sk-estimator-doc-link,\n",
       "a:visited.sk-estimator-doc-link {\n",
       "  float: right;\n",
       "  font-size: smaller;\n",
       "  line-height: 1em;\n",
       "  font-family: monospace;\n",
       "  background-color: var(--sklearn-color-background);\n",
       "  border-radius: 1em;\n",
       "  height: 1em;\n",
       "  width: 1em;\n",
       "  text-decoration: none !important;\n",
       "  margin-left: 1ex;\n",
       "  /* unfitted */\n",
       "  border: var(--sklearn-color-unfitted-level-1) 1pt solid;\n",
       "  color: var(--sklearn-color-unfitted-level-1);\n",
       "}\n",
       "\n",
       ".sk-estimator-doc-link.fitted,\n",
       "a:link.sk-estimator-doc-link.fitted,\n",
       "a:visited.sk-estimator-doc-link.fitted {\n",
       "  /* fitted */\n",
       "  border: var(--sklearn-color-fitted-level-1) 1pt solid;\n",
       "  color: var(--sklearn-color-fitted-level-1);\n",
       "}\n",
       "\n",
       "/* On hover */\n",
       "div.sk-estimator:hover .sk-estimator-doc-link:hover,\n",
       ".sk-estimator-doc-link:hover,\n",
       "div.sk-label-container:hover .sk-estimator-doc-link:hover,\n",
       ".sk-estimator-doc-link:hover {\n",
       "  /* unfitted */\n",
       "  background-color: var(--sklearn-color-unfitted-level-3);\n",
       "  color: var(--sklearn-color-background);\n",
       "  text-decoration: none;\n",
       "}\n",
       "\n",
       "div.sk-estimator.fitted:hover .sk-estimator-doc-link.fitted:hover,\n",
       ".sk-estimator-doc-link.fitted:hover,\n",
       "div.sk-label-container:hover .sk-estimator-doc-link.fitted:hover,\n",
       ".sk-estimator-doc-link.fitted:hover {\n",
       "  /* fitted */\n",
       "  background-color: var(--sklearn-color-fitted-level-3);\n",
       "  color: var(--sklearn-color-background);\n",
       "  text-decoration: none;\n",
       "}\n",
       "\n",
       "/* Span, style for the box shown on hovering the info icon */\n",
       ".sk-estimator-doc-link span {\n",
       "  display: none;\n",
       "  z-index: 9999;\n",
       "  position: relative;\n",
       "  font-weight: normal;\n",
       "  right: .2ex;\n",
       "  padding: .5ex;\n",
       "  margin: .5ex;\n",
       "  width: min-content;\n",
       "  min-width: 20ex;\n",
       "  max-width: 50ex;\n",
       "  color: var(--sklearn-color-text);\n",
       "  box-shadow: 2pt 2pt 4pt #999;\n",
       "  /* unfitted */\n",
       "  background: var(--sklearn-color-unfitted-level-0);\n",
       "  border: .5pt solid var(--sklearn-color-unfitted-level-3);\n",
       "}\n",
       "\n",
       ".sk-estimator-doc-link.fitted span {\n",
       "  /* fitted */\n",
       "  background: var(--sklearn-color-fitted-level-0);\n",
       "  border: var(--sklearn-color-fitted-level-3);\n",
       "}\n",
       "\n",
       ".sk-estimator-doc-link:hover span {\n",
       "  display: block;\n",
       "}\n",
       "\n",
       "/* \"?\"-specific style due to the `<a>` HTML tag */\n",
       "\n",
       "#sk-container-id-1 a.estimator_doc_link {\n",
       "  float: right;\n",
       "  font-size: 1rem;\n",
       "  line-height: 1em;\n",
       "  font-family: monospace;\n",
       "  background-color: var(--sklearn-color-background);\n",
       "  border-radius: 1rem;\n",
       "  height: 1rem;\n",
       "  width: 1rem;\n",
       "  text-decoration: none;\n",
       "  /* unfitted */\n",
       "  color: var(--sklearn-color-unfitted-level-1);\n",
       "  border: var(--sklearn-color-unfitted-level-1) 1pt solid;\n",
       "}\n",
       "\n",
       "#sk-container-id-1 a.estimator_doc_link.fitted {\n",
       "  /* fitted */\n",
       "  border: var(--sklearn-color-fitted-level-1) 1pt solid;\n",
       "  color: var(--sklearn-color-fitted-level-1);\n",
       "}\n",
       "\n",
       "/* On hover */\n",
       "#sk-container-id-1 a.estimator_doc_link:hover {\n",
       "  /* unfitted */\n",
       "  background-color: var(--sklearn-color-unfitted-level-3);\n",
       "  color: var(--sklearn-color-background);\n",
       "  text-decoration: none;\n",
       "}\n",
       "\n",
       "#sk-container-id-1 a.estimator_doc_link.fitted:hover {\n",
       "  /* fitted */\n",
       "  background-color: var(--sklearn-color-fitted-level-3);\n",
       "}\n",
       "</style><div id=\"sk-container-id-1\" class=\"sk-top-container\"><div class=\"sk-text-repr-fallback\"><pre>RandomForestClassifier(random_state=42)</pre><b>In a Jupyter environment, please rerun this cell to show the HTML representation or trust the notebook. <br />On GitHub, the HTML representation is unable to render, please try loading this page with nbviewer.org.</b></div><div class=\"sk-container\" hidden><div class=\"sk-item\"><div class=\"sk-estimator fitted sk-toggleable\"><input class=\"sk-toggleable__control sk-hidden--visually\" id=\"sk-estimator-id-1\" type=\"checkbox\" checked><label for=\"sk-estimator-id-1\" class=\"sk-toggleable__label fitted sk-toggleable__label-arrow fitted\">&nbsp;&nbsp;RandomForestClassifier<a class=\"sk-estimator-doc-link fitted\" rel=\"noreferrer\" target=\"_blank\" href=\"https://scikit-learn.org/1.5/modules/generated/sklearn.ensemble.RandomForestClassifier.html\">?<span>Documentation for RandomForestClassifier</span></a><span class=\"sk-estimator-doc-link fitted\">i<span>Fitted</span></span></label><div class=\"sk-toggleable__content fitted\"><pre>RandomForestClassifier(random_state=42)</pre></div> </div></div></div></div>"
      ],
      "text/plain": [
       "RandomForestClassifier(random_state=42)"
      ]
     },
     "execution_count": 101,
     "metadata": {},
     "output_type": "execute_result"
    }
   ],
   "source": [
    "model = RandomForestClassifier(n_estimators=100, random_state=42)\n",
    "model.fit(X_train, y_train)\n"
   ]
  },
  {
   "cell_type": "code",
   "execution_count": 103,
   "id": "b5e0e71f-863e-4b72-9b16-091e38c46147",
   "metadata": {},
   "outputs": [
    {
     "name": "stdout",
     "output_type": "stream",
     "text": [
      "✅ Accuracy: 0.747\n",
      "📊 Confusion Matrix:\n",
      " [[ 24 110]\n",
      " [143 723]]\n",
      "📄 Classification Report:\n",
      "               precision    recall  f1-score   support\n",
      "\n",
      "           0       0.14      0.18      0.16       134\n",
      "           1       0.87      0.83      0.85       866\n",
      "\n",
      "    accuracy                           0.75      1000\n",
      "   macro avg       0.51      0.51      0.51      1000\n",
      "weighted avg       0.77      0.75      0.76      1000\n",
      "\n"
     ]
    }
   ],
   "source": [
    "y_pred = model.predict(X_test)\n",
    "\n",
    "print(\"✅ Accuracy:\", accuracy_score(y_test, y_pred))\n",
    "print(\"📊 Confusion Matrix:\\n\", confusion_matrix(y_test, y_pred))\n",
    "print(\"📄 Classification Report:\\n\", classification_report(y_test, y_pred))\n"
   ]
  }
 ],
 "metadata": {
  "kernelspec": {
   "display_name": "Python [conda env:base] *",
   "language": "python",
   "name": "conda-base-py"
  },
  "language_info": {
   "codemirror_mode": {
    "name": "ipython",
    "version": 3
   },
   "file_extension": ".py",
   "mimetype": "text/x-python",
   "name": "python",
   "nbconvert_exporter": "python",
   "pygments_lexer": "ipython3",
   "version": "3.12.7"
  }
 },
 "nbformat": 4,
 "nbformat_minor": 5
}
